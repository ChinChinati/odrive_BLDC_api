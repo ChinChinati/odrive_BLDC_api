{
 "cells": [
  {
   "cell_type": "code",
   "execution_count": 2,
   "metadata": {},
   "outputs": [
    {
     "name": "stdout",
     "output_type": "stream",
     "text": [
      "12.160327911376953\n"
     ]
    }
   ],
   "source": [
    "import odrive\n",
    "from odrive.enums import *\n",
    "import time,sys\n",
    "\n",
    "\n",
    "\n",
    "odrv = odrive.find_any()\n",
    "print(str(odrv.vbus_voltage))"
   ]
  },
  {
   "cell_type": "code",
   "execution_count": 3,
   "metadata": {},
   "outputs": [],
   "source": [
    "odrv.config.dc_bus_overvoltage_trip_level = 15\n",
    "odrv.config.dc_bus_undervoltage_trip_level = 10.5\n",
    "odrv.config.dc_max_positive_current = 10\n",
    "odrv.config.dc_max_negative_current = -5\n",
    "odrv.axis0.config.motor.motor_type = MotorType.HIGH_CURRENT\n",
    "odrv.axis0.config.motor.torque_constant = 0.07191304347826087\n",
    "odrv.axis0.config.motor.pole_pairs = 14\n",
    "odrv.axis0.config.motor.current_soft_max = 28\n",
    "odrv.axis0.config.motor.current_hard_max = 48\n",
    "odrv.axis0.config.motor.calibration_current = 10\n",
    "odrv.axis0.config.motor.resistance_calib_max_voltage = 2\n",
    "odrv.axis0.config.calibration_lockin.current = 10\n",
    "odrv.axis0.controller.config.control_mode = ControlMode.VELOCITY_CONTROL\n",
    "odrv.axis0.controller.config.input_mode = InputMode.VEL_RAMP\n",
    "odrv.axis0.controller.config.vel_ramp_rate = 1\n",
    "odrv.axis0.config.torque_soft_min = -0.40271304347826087\n",
    "odrv.axis0.config.torque_soft_max = 0.40271304347826087\n",
    "odrv.axis0.config.encoder_bandwidth = 100\n",
    "odrv.hall_encoder0.config.enabled = True\n",
    "odrv.axis0.config.load_encoder = EncoderId.HALL_ENCODER0\n",
    "odrv.axis0.config.commutation_encoder = EncoderId.HALL_ENCODER0\n",
    "# setting PID gains\n",
    "odrv.axis0.controller.config.vel_gain = 0.01\n",
    "odrv.axis0.controller.config.vel_integrator_gain = 0.03"
   ]
  },
  {
   "cell_type": "code",
   "execution_count": 4,
   "metadata": {},
   "outputs": [],
   "source": [
    "def connect():\n",
    "    odrv.clear_errors\n",
    "    odrv.axis0.requested_state = AxisState.CLOSED_LOOP_CONTROL\n",
    "    if odrv.axis0.current_state == AxisState.CLOSED_LOOP_CONTROL:\n",
    "        print(\"Connected\")\n",
    "    else:\n",
    "        print(\"Error\")\n",
    "        exit()\n",
    "\n",
    "def disconnect():\n",
    "    odrv.axis0.requested_state = AxisState.IDLE\n",
    "    if odrv.axis0.current_state == AxisState.IDLE:\n",
    "        print(\"Disconnected\")\n",
    "    else:\n",
    "        print(\"Error\")\n",
    "        exit()\n",
    "\n",
    "def run(velocity = 0.7):\n",
    "    odrv.axis0.controller.input_vel = velocity\n",
    "    if odrv.axis0.current_state == AxisState.CLOSED_LOOP_CONTROL:\n",
    "        print(\"Running\")\n",
    "    elif odrv.axis0.current_state == AxisState.IDLE:\n",
    "        print(\"Error\")\n",
    "        exit()\n",
    "\n",
    "def stop():\n",
    "    odrv.axis0.controller.input_vel = 0\n",
    "    if odrv.axis0.current_state == AxisState.CLOSED_LOOP_CONTROL:\n",
    "        print(\"Stopped\")\n",
    "    else:\n",
    "        print(\"Error\")\n",
    "        exit()"
   ]
  },
  {
   "cell_type": "code",
   "execution_count": 5,
   "metadata": {},
   "outputs": [
    {
     "name": "stdout",
     "output_type": "stream",
     "text": [
      "Connected\n"
     ]
    }
   ],
   "source": [
    "connect()"
   ]
  },
  {
   "cell_type": "code",
   "execution_count": 7,
   "metadata": {},
   "outputs": [
    {
     "name": "stdout",
     "output_type": "stream",
     "text": [
      "Running\n"
     ]
    }
   ],
   "source": [
    "run(1)"
   ]
  },
  {
   "cell_type": "code",
   "execution_count": 6,
   "metadata": {},
   "outputs": [
    {
     "name": "stdout",
     "output_type": "stream",
     "text": [
      "Stopped\n",
      "Error\n"
     ]
    },
    {
     "ename": "",
     "evalue": "",
     "output_type": "error",
     "traceback": [
      "\u001b[1;31mThe Kernel crashed while executing code in the the current cell or a previous cell. Please review the code in the cell(s) to identify a possible cause of the failure. Click <a href='https://aka.ms/vscodeJupyterKernelCrash'>here</a> for more info. View Jupyter <a href='command:jupyter.viewOutput'>log</a> for further details."
     ]
    }
   ],
   "source": [
    "stop()\n",
    "disconnect()"
   ]
  }
 ],
 "metadata": {
  "kernelspec": {
   "display_name": "Python 3",
   "language": "python",
   "name": "python3"
  },
  "language_info": {
   "codemirror_mode": {
    "name": "ipython",
    "version": 3
   },
   "file_extension": ".py",
   "mimetype": "text/x-python",
   "name": "python",
   "nbconvert_exporter": "python",
   "pygments_lexer": "ipython3",
   "version": "3.10.12"
  }
 },
 "nbformat": 4,
 "nbformat_minor": 2
}
